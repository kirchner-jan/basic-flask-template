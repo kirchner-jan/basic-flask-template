{
 "cells": [
  {
   "cell_type": "markdown",
   "metadata": {},
   "source": [
    "notebook for massaging different sources of text into a unified set of small .txt documents"
   ]
  },
  {
   "cell_type": "code",
   "execution_count": null,
   "metadata": {},
   "outputs": [],
   "source": [
    "# Roam Research\n",
    "import json\n",
    "import re\n",
    "def item_generator(json_input, lookup_key):\n",
    "     if isinstance(json_input, dict):\n",
    "         for k, v in json_input.items():\n",
    "             if k == lookup_key:\n",
    "                 yield v\n",
    "             else:\n",
    "                 yield from  item_generator(v, lookup_key)\n",
    "     elif isinstance(json_input, list):\n",
    "         for item in json_input:\n",
    "             yield from item_generator(item, lookup_key)\n",
    "\n",
    "with open('jans-ideas.json') as json_file:\n",
    "     data = json.load(json_file)\n",
    "file2 = open(\"roam_research.txt\" , \"a\")\n",
    "for st in item_generator(data , \"string\"):\n",
    "    stripped_st = st.replace('{{[[r/moved]]}}','');\n",
    "    stripped_st = re.sub(r'\\(\\(.*\\)\\)' , '' , stripped_st);\n",
    "    stripped_st = re.sub(r'!\\[\\]\\(.*\\)' , '' , stripped_st);\n",
    "    stripped_st = stripped_st.replace('[[srs]] [[fancy-concept]] [*]','');\n",
    "    stripped_st = stripped_st.replace('[[srs]] [[maths]] [*]','');\n",
    "    stripped_st = re.sub(r'\\{\\\"position\\\".*' , '' , stripped_st);    \n",
    "    stripped_st = re.sub(r'\\{\\\"boundingRect\\\".*' , '' , stripped_st);    \n",
    "\n",
    "    if len(stripped_st) > 0:\n",
    "        stripped_st = stripped_st + '\\n';\n",
    "        file2.write(stripped_st)\n",
    "file2.close()"
   ]
  },
  {
   "cell_type": "markdown",
   "metadata": {},
   "source": [
    "do some webcrawling to resolve links"
   ]
  },
  {
   "cell_type": "code",
   "execution_count": null,
   "metadata": {},
   "outputs": [],
   "source": [
    "!pip3 install trafilatura"
   ]
  },
  {
   "cell_type": "code",
   "execution_count": null,
   "metadata": {},
   "outputs": [],
   "source": [
    "!pip3 install tika"
   ]
  },
  {
   "cell_type": "code",
   "execution_count": null,
   "metadata": {},
   "outputs": [],
   "source": [
    "import urllib.request\n",
    "\n",
    "def download_file(download_url, filename):\n",
    "    response = urllib.request.urlopen(download_url)    \n",
    "    file = open(filename + \".pdf\", 'wb')\n",
    "    file.write(response.read())\n",
    "    file.close()"
   ]
  },
  {
   "cell_type": "code",
   "execution_count": null,
   "metadata": {},
   "outputs": [],
   "source": [
    "import trafilatura\n",
    "import re\n",
    "from tika import parser # pip install tika\n",
    "import os\n",
    "\n",
    "with open('roam_research.txt') as f:\n",
    "    text = f.read()\n",
    "\n",
    "href_regex = r'https?://\\S+\\)'\n",
    "urls = re.findall(href_regex, text)\n",
    "urls = [url[:-1] for url in urls]\n",
    "for url in urls:\n",
    "    fName = \"webcrawl/\" + url.replace('https','').replace('http','').replace('://','').replace('/','-')[:30] + \".txt\"\n",
    "    if not os.path.exists(fName):\n",
    "        try:\n",
    "            tFile = open(fName , \"a\")\n",
    "            if \".pdf\" not in url:\n",
    "                downloaded = trafilatura.fetch_url(url)\n",
    "                result = trafilatura.extract(downloaded, include_comments=False, include_tables=False, no_fallback=True)\n",
    "            else:\n",
    "                download_file(url, \"sample\")\n",
    "                raw = parser.from_file('sample.pdf')\n",
    "                result = raw['content']\n",
    "            if not result is None:\n",
    "                tFile.write(result)\n",
    "            tFile.close()\n",
    "        except:\n",
    "            print('oops')\n"
   ]
  },
  {
   "cell_type": "code",
   "execution_count": null,
   "metadata": {},
   "outputs": [],
   "source": [
    "import os\n",
    "fList = os.listdir('webcrawl')\n",
    "cc = 0\n",
    "for file in fList:\n",
    "    print(cc)\n",
    "    cc = cc + 1\n",
    "    os.system(\"awk ' /^$/ { print; } /./ { printf(\\\"%s \\\", $0); } ' webcrawl/\" + file + \" > webcrawl/tmp.txt\")\n",
    "    os.system(\"mv webcrawl/tmp.txt webcrawl/\" + file )"
   ]
  },
  {
   "cell_type": "code",
   "execution_count": 31,
   "metadata": {},
   "outputs": [],
   "source": [
    "fList = os.listdir('webcrawl/')\n",
    "os.system('mkdir webcrawl/splitcrawl')\n",
    "for file in fList:\n",
    "    os.system('split -l 400 webcrawl/' + file +' webcrawl/splitcrawl/split'+ file[:-4] + '.txt');"
   ]
  },
  {
   "cell_type": "markdown",
   "metadata": {},
   "source": [
    "split into chunks for better training"
   ]
  },
  {
   "cell_type": "code",
   "execution_count": null,
   "metadata": {},
   "outputs": [],
   "source": [
    "import os\n",
    "!mkdir roam_files\n",
    "os.system('split -l 400 roam_research.txt roam_files/splitroam');"
   ]
  },
  {
   "cell_type": "markdown",
   "metadata": {},
   "source": [
    "Whatsapp already comes separated by user - but still worth it to chunk it further"
   ]
  },
  {
   "cell_type": "code",
   "execution_count": null,
   "metadata": {},
   "outputs": [],
   "source": [
    "fList = os.listdir('whatsapp/')\n",
    "os.system('mkdir whatsapp/splitwhatsapp')\n",
    "for file in fList:\n",
    "    os.system('mv whatsapp/' + file.replace(' ','\\ ') + ' whatsapp/' + file.replace(' ',''))\n",
    "    os.system(\"sed -i '' 's/Astrid Coxi \\(Coxi\\)/Astrid Feiten/g' whatsapp/\" + file)\n",
    "    os.system(\"sed -i '' 's/Anni Aesthetic/Annekathrin Kirchner/g' whatsapp/\" + file)\n",
    "    os.system(\"sed -i '' 's/danylo/Danylo Batulin/g' whatsapp/\" + file)\n",
    "    os.system(\"sed -i '' 's/hiba/Hiba Douja Chehade/g' whatsapp/\" + file)\n",
    "    os.system(\"sed -i '' 's/Judith:/Judith Schepers:/g' whatsapp/\" + file)\n",
    "    os.system(\"sed -i '' 's/luis frankfurt/Juan Luis Riquelme/g' whatsapp/\" + file)\n",
    "    os.system(\"sed -i '' 's/mahyar:/Mahyar Moghimi/g' whatsapp/\" + file)\n",
    "    os.system(\"sed -i '' 's/mara müller/Mara Müller/g' whatsapp/\" + file)\n",
    "    os.system(\"sed -i '' 's/Marcel MPI Jüngling/Marcel Jüngling/g' whatsapp/\" + file)\n",
    "    os.system(\"sed -i '' 's/michael pernpeitner/Michael Pernpeitner/g' whatsapp/\" + file)\n",
    "    os.system(\"sed -i '' 's/Nadia LW:/Nadia Mir-Montazeri:/g' whatsapp/\" + file)\n",
    "    os.system(\"sed -i '' 's/Nadia UK:/Nadia Nicole Ninosu:/g' whatsapp/\" + file)\n",
    "    os.system(\"sed -i '' 's/Nils:/Nils Frühling:/g' whatsapp/\" + file)\n",
    "    os.system(\"sed -i '' 's/Paul Cogsci/Paul Zimmer-Harwood/g' whatsapp/\" + file)\n",
    "    os.system(\"sed -i '' 's/Pierre MPI/Pierre Ekelsmann/g' whatsapp/\" + file)\n",
    "    os.system(\"sed -i '' 's/Ulla:/Ulla Kirchner:/g' whatsapp/\" + file)\n",
    "    os.system(\"sed -i '' 's/zhuoshi liu:/Zhuoshi Liu:/g' whatsapp/\" + file)\n",
    "    os.system('split -l 400 whatsapp/' + file +' whatsapp/splitwhatsapp/split'+ file[:-4]);"
   ]
  },
  {
   "cell_type": "markdown",
   "metadata": {},
   "source": [
    "Facebook data just need light massaging and splitting"
   ]
  },
  {
   "cell_type": "code",
   "execution_count": null,
   "metadata": {},
   "outputs": [],
   "source": [
    "os.system(\"sed 's/{//g' facebook.txt > facebook_stripped.txt\")\n",
    "os.system(\"sed -i '' 's/}//g' facebook_stripped.txt\")\n",
    "os.system(\"sed -i '' 's/\\\"//g' facebook_stripped.txt\")\n",
    "os.system(\"sed -i '' 's/  name: //g' facebook_stripped.txt\")\n",
    "os.system(\"sed -i '' 's/  message: //g' facebook_stripped.txt\")\n",
    "os.system(\"sed -i '' '/^$/d' facebook_stripped.txt\")\n",
    "os.system(\"sed -i '' 's/,$/: /g' facebook_stripped.txt\")\n",
    "os.system(\"cat facebook_stripped.txt |  paste -d ' ' - - | tee facebook_stripped_full.txt\")\n",
    "os.system(\"mv facebook_stripped_full.txt facebook_stripped.txt\")\n",
    "os.system(\"sed -i '' 's/  / /g' facebook_stripped.txt\")\n",
    "os.system(\"sed -i '' 's/Alexander Be/Alexander von Bergner/g' facebook_stripped.txt\")\n",
    "os.system(\"sed -i '' 's/Jole Ma/Jan Ole Maack/g' facebook_stripped.txt\")\n",
    "os.system(\"sed -i '' 's/Anni Aesthetic/Annekathrin Kirchner/g' facebook_stripped.txt\")\n",
    "os.system(\"sed -i '' 's/Nadia Nicole/Nadia Nicole Ninosu/g' facebook_stripped.txt\")\n",
    "os.system(\"mkdir facebook\")\n",
    "os.system('split -l 400 facebook_stripped.txt facebook/splitfacebook');\n",
    "os.system(\"rm facebook_stripped.txt\")"
   ]
  },
  {
   "cell_type": "markdown",
   "metadata": {},
   "source": [
    "email needs a lot of massaging after extraction"
   ]
  },
  {
   "cell_type": "code",
   "execution_count": null,
   "metadata": {},
   "outputs": [],
   "source": [
    "import mailbox\n",
    "mbox_obj = mailbox.mbox('Sent.mbox', create=False)"
   ]
  },
  {
   "cell_type": "code",
   "execution_count": null,
   "metadata": {},
   "outputs": [],
   "source": [
    "# https://stackoverflow.com/questions/7166922/extracting-the-body-of-an-email-from-mbox-file-decoding-it-to-plain-text-regard\n",
    "\n",
    "def getcharsets(msg):\n",
    "    charsets = set({})\n",
    "    for c in msg.get_charsets():\n",
    "        if c is not None:\n",
    "            charsets.update([c])\n",
    "    return charsets\n",
    "\n",
    "def handleerror(errmsg, emailmsg,cs):\n",
    "    7+7;\n",
    "\n",
    "def getbodyfromemail(msg):\n",
    "    body = None\n",
    "    #Walk through the parts of the email to find the text body.    \n",
    "    if msg.is_multipart():    \n",
    "        for part in msg.walk():\n",
    "            # If part is multipart, walk through the subparts.            \n",
    "            if part.is_multipart(): \n",
    "                for subpart in part.walk():\n",
    "                    if subpart.get_content_type() == 'text/plain':\n",
    "                        # Get the subpart payload (i.e the message body)\n",
    "                        body = subpart.get_payload(decode=True) \n",
    "                        #charset = subpart.get_charset()\n",
    "            # Part isn't multipart so get the email body\n",
    "            elif part.get_content_type() == 'text/plain':\n",
    "                body = part.get_payload(decode=True)\n",
    "                #charset = part.get_charset()\n",
    "\n",
    "    # If this isn't a multi-part message then get the payload (i.e the message body)\n",
    "    elif msg.get_content_type() == 'text/plain':\n",
    "        body = msg.get_payload(decode=True) \n",
    "\n",
    "   # No checking done to match the charset with the correct part. \n",
    "    for charset in getcharsets(msg):\n",
    "        try:\n",
    "            body = body.decode(charset)\n",
    "        except UnicodeDecodeError:\n",
    "            handleerror(\"UnicodeDecodeError: encountered.\",msg,charset)\n",
    "        except AttributeError:\n",
    "             handleerror(\"AttributeError: encountered\" ,msg,charset)\n",
    "    return body    "
   ]
  },
  {
   "cell_type": "code",
   "execution_count": null,
   "metadata": {},
   "outputs": [],
   "source": [
    "import re\n",
    "#mboxfile = 'C:/Users/Username/Documents/Thunderbird/Data/profile/ImapMail/server.name/INBOX'\n",
    "for thisemail in mbox_obj:\n",
    "    body = getbodyfromemail(thisemail)\n",
    "    if thisemail['To'] is None:\n",
    "        thisemail['To'] = 'many'\n",
    "    filename = 'email/' + thisemail['Date'] +  thisemail['To'] \n",
    "    filename = filename[:50] + '.txt'\n",
    "    if not body is None:\n",
    "        stripped_body = re.sub(r'From:.*' , '' , body);\n",
    "        stripped_body = re.sub(r'Sent:.*' , '' , stripped_body);\n",
    "        stripped_body = re.sub(r'To:.*' , '' , stripped_body);\n",
    "        stripped_body = re.sub(r'Subject.*' , '' , stripped_body);\n",
    "        stripped_body = re.sub(r'Von:.*' , '' , body);\n",
    "        stripped_body = re.sub(r'Gesendet:.*' , '' , body);\n",
    "        stripped_body = re.sub(r'An:.*' , '' , body);\n",
    "        stripped_body = re.sub(r'Betreff:.*' , '' , body);\n",
    "        stripped_body = re.sub(r'From:.*' , '' , body);\n",
    "\n",
    "        stripped_body = re.sub(r'<.*>' , '' , stripped_body);\n",
    "        stripped_body = re.sub(r'>' , '' , stripped_body);\n",
    "        stripped_body = re.sub(r'Cc:.*' , '' , stripped_body);\n",
    "        stripped_body = re.sub(r'________________________________' , '' , stripped_body);\n",
    "        stripped_body = os.linesep.join([s for s in stripped_body.splitlines() if s])\n",
    "        try:\n",
    "            with open(filename.replace(' ' , ''), 'w') as f:\n",
    "                f.write(stripped_body)\n",
    "        except:\n",
    "            continue"
   ]
  },
  {
   "cell_type": "markdown",
   "metadata": {},
   "source": [
    "Telegram needs to be queried over the API"
   ]
  },
  {
   "cell_type": "code",
   "execution_count": null,
   "metadata": {},
   "outputs": [],
   "source": [
    "!pip install telethon"
   ]
  },
  {
   "cell_type": "code",
   "execution_count": null,
   "metadata": {},
   "outputs": [],
   "source": [
    "from telethon import TelegramClient\n",
    "from telethon.tl.types import PeerUser, PeerChat, PeerChannel\n",
    "import os\n",
    "client = TelegramClient('riddlesdiary', 7126589, '58c30b7b112cd010e94ffb5d651b7c5a')\n",
    "await client.start()"
   ]
  },
  {
   "cell_type": "code",
   "execution_count": null,
   "metadata": {},
   "outputs": [],
   "source": [
    "async for dialog in client.iter_dialogs():\n",
    "    print(dialog.name, 'has ID', dialog.id)\n",
    "    if not os.path.isfile('telegram/' + dialog.name.replace('/','') + '.txt' ):\n",
    "        f = open('telegram/' + dialog.name.replace('/','') + '.txt' , 'w+');\n",
    "        async for message in client.iter_messages(dialog.id):\n",
    "            try:\n",
    "              if not (message.from_id is None):\n",
    "                  my_user    = await client.get_entity(message.from_id)\n",
    "                  #print(my_user.first_name, ':' , message.text)\n",
    "                  f.write(my_user.first_name +  ' : ' + message.text)\n",
    "            except:\n",
    "                continue\n",
    "        f.close();"
   ]
  },
  {
   "cell_type": "code",
   "execution_count": null,
   "metadata": {},
   "outputs": [],
   "source": [
    "fList = os.listdir('telegram/')\n",
    "os.system('mkdir telegram/splittelegram')\n",
    "for file in fList:\n",
    "    os.system('mv telegram/' + file.replace(' ','\\ ') + ' telegram/' + file.replace(' ',''))\n",
    "    os.system(\"sed -i '' 's/Astrid Coxi \\(Coxi\\)/Astrid Feiten/g' telegram/\" + file.replace(' ',''))\n",
    "    os.system(\"sed -i '' 's/Anni Aesthetic/Annekathrin Kirchner/g' telegram/\" + file.replace(' ',''))\n",
    "    os.system(\"sed -i '' 's/danylo/Danylo Batulin/g' telegram/\" + file.replace(' ',''))\n",
    "    os.system(\"sed -i '' 's/hiba/Hiba Douja Chehade/g' telegram/\" + file.replace(' ',''))\n",
    "    os.system(\"sed -i '' 's/Judith:/Judith Schepers:/g' telegram/\" + file.replace(' ',''))\n",
    "    os.system(\"sed -i '' 's/luis frankfurt/Juan Luis Riquelme/g' telegram/\" + file.replace(' ',''))\n",
    "    os.system(\"sed -i '' 's/luis frankfurt/Juan Luis Riquelme/g' telegram/\" + file.replace(' ',''))\n",
    "    os.system(\"sed -i '' 's/mahyar:/Mahyar Moghimi/g' telegram/\" + file.replace(' ',''))\n",
    "    os.system(\"sed -i '' 's/mara müller/Mara Müller/g' telegram/\" + file.replace(' ',''))\n",
    "    os.system(\"sed -i '' 's/Marcel MPI Jüngling/Marcel Jüngling/g' telegram/\" + file.replace(' ',''))\n",
    "    os.system(\"sed -i '' 's/michael pernpeitner/Michael Pernpeitner/g' telegram/\" + file.replace(' ',''))\n",
    "    os.system(\"sed -i '' 's/Nadia LW:/Nadia Mir-Montazeri:/g' telegram/\" + file.replace(' ',''))\n",
    "    os.system(\"sed -i '' 's/Nadia UK:/Nadia Nicole Ninosu:/g' telegram/\" + file.replace(' ',''))\n",
    "    os.system(\"sed -i '' 's/Nils:/Nils Frühling:/g' telegram/\" + file.replace(' ',''))\n",
    "    os.system(\"sed -i '' 's/Paul Cogsci/Paul Zimmer-Harwood/g' telegram/\" + file.replace(' ',''))\n",
    "    os.system(\"sed -i '' 's/Pierre MPI/Pierre Ekelsmann/g' telegram/\" + file.replace(' ',''))\n",
    "    os.system(\"sed -i '' 's/Ulla:/Ulla Kirchner:/g' telegram/\" + file.replace(' ',''))\n",
    "    os.system(\"sed -i '' 's/zhuoshi liu:/Zhuoshi Liu:/g' telegram/\" + file.replace(' ',''))\n",
    "    os.system('split -l 400 telegram/' + file.replace(' ','') +' telegram/splittelegram/split'+ file[:-4].replace(' ',''));"
   ]
  },
  {
   "cell_type": "markdown",
   "metadata": {},
   "source": [
    "convert epubs to txt and split them"
   ]
  },
  {
   "cell_type": "code",
   "execution_count": 5,
   "metadata": {},
   "outputs": [],
   "source": [
    "import os\n",
    "fList = os.listdir('epubs')\n",
    "for file in fList:\n",
    "    os.system('pandoc epubs/' + file.replace(' ' , '\\ ') + ' -t plain -o epubs_txt/' + file[:-4].replace(' ' , '\\ ') + 'txt')\n",
    "    os.system(\"awk ' /^$/ { print; } /./ { printf(\\\"%s \\\", $0); } ' epubs_txt/\" + file[:-4].replace(' ' , '\\ ') + \"txt > epubs_txt/tmp.txt\")\n",
    "    os.system(\"mv epubs_txt/tmp.txt epubs_txt/\" + file[:-4].replace(' ' , '\\ ') + 'txt')\n",
    "    \n"
   ]
  },
  {
   "cell_type": "code",
   "execution_count": null,
   "metadata": {},
   "outputs": [],
   "source": [
    "fList = os.listdir('epubs_txt/')\n",
    "os.system('mkdir epubs_txt/splitepubs')\n",
    "for file in fList:\n",
    "    os.system('split -l 400 epubs_txt/' + file +' epubs_txt/splitepubs/split'+ file[:-4]);"
   ]
  },
  {
   "cell_type": "markdown",
   "metadata": {},
   "source": [
    "convert random collection of .docx and .tex to txt and split"
   ]
  },
  {
   "cell_type": "code",
   "execution_count": null,
   "metadata": {},
   "outputs": [],
   "source": [
    "import os\n",
    "fList = os.listdir('my_docs')\n",
    "for file in fList:\n",
    "    os.system('pandoc my_docs/' + file.replace(' ' , '\\ ') + ' -t plain -o my_txt/' + file[:-4].replace(' ' , '\\ ') + 'txt')\n",
    "    os.system(\"awk ' /^$/ { print; } /./ { printf(\\\"%s \\\", $0); } ' my_txt/\" + file[:-4].replace(' ' , '\\ ') + \"txt > my_txt/tmp.txt\")\n",
    "    os.system(\"mv my_txt/tmp.txt my_txt/\" + file[:-4].replace(' ' , '\\ ') + 'txt')\n",
    "    "
   ]
  },
  {
   "cell_type": "code",
   "execution_count": null,
   "metadata": {},
   "outputs": [],
   "source": [
    "fList = os.listdir('my_txt/')\n",
    "os.system('mkdir my_txt/splitmytxt')\n",
    "for file in fList:\n",
    "    os.system('split -l 400 my_txt/' + file +' my_txt/splitmytxt/split'+ file[:-4]);"
   ]
  },
  {
   "cell_type": "code",
   "execution_count": null,
   "metadata": {},
   "outputs": [],
   "source": []
  }
 ],
 "metadata": {
  "kernelspec": {
   "display_name": "Python 3 (ipykernel)",
   "language": "python",
   "name": "python3"
  },
  "language_info": {
   "codemirror_mode": {
    "name": "ipython",
    "version": 3
   },
   "file_extension": ".py",
   "mimetype": "text/x-python",
   "name": "python",
   "nbconvert_exporter": "python",
   "pygments_lexer": "ipython3",
   "version": "3.7.11"
  }
 },
 "nbformat": 4,
 "nbformat_minor": 4
}
